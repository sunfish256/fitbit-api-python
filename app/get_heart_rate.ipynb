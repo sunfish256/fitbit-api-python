{
 "cells": [
  {
   "cell_type": "markdown",
   "id": "39ca224a-a54e-454f-88a6-b1c80745bbe4",
   "metadata": {},
   "source": [
    "[![Open in Colab](https://colab.research.google.com/assets/colab-badge.svg)](https://colab.research.google.com/github/sunfish256/fitbit-api-python/blob/main/app/get_heart_rate.ipynb)"
   ]
  },
  {
   "cell_type": "code",
   "execution_count": null,
   "id": "e7b0008c-43ac-4e05-8972-cf05be975aef",
   "metadata": {
    "tags": []
   },
   "outputs": [],
   "source": [
    "!pip install fitbit"
   ]
  },
  {
   "cell_type": "code",
   "execution_count": null,
   "id": "665bb3eb-010b-4f9a-9f0e-532ca42f3fff",
   "metadata": {
    "tags": []
   },
   "outputs": [],
   "source": [
    "'''Module providing the function to read and write json files.'''\n",
    "import json\n",
    "import datetime\n",
    "import fitbit\n",
    "import pandas as pd"
   ]
  },
  {
   "cell_type": "code",
   "execution_count": null,
   "id": "cac7f627-74d8-4279-a98e-8f7ec7dedbc3",
   "metadata": {
    "tags": []
   },
   "outputs": [],
   "source": [
    "# Settings\n",
    "TOKEN_FILE_PATH = './fb_conf.json'\n",
    "DATE = 'today'  # Your region's date, not GMT\n",
    "FREQ = '1sec'"
   ]
  },
  {
   "cell_type": "code",
   "execution_count": null,
   "id": "e95f4bf8-1c51-4e39-9db8-2d9c94bfa500",
   "metadata": {
    "tags": []
   },
   "outputs": [],
   "source": [
    "def hr2csv(token_file_path, date, freq):\n",
    "    '''\n",
    "    Returns Fitbit heart rate data for a given date in data frames.\n",
    "    In addition, outputs the data frame to Fitbit_HR_yyyy-MM-dd.csv.\n",
    "\n",
    "    Args:\n",
    "        token_file_path (str): file path\n",
    "        date (str): yyyy-MM-dd or today\n",
    "        freq (str): 1sec | 1min | 5min | 15min\n",
    "\n",
    "    Returns:\n",
    "        DataFrame: index='timestamp', columns='heartrate'\n",
    "    '''\n",
    "    if date == 'today':\n",
    "        date = str(datetime.date.today())\n",
    "    # Read credentials\n",
    "    with open(token_file_path, 'r', encoding='utf-8') as f:\n",
    "        conf = json.load(f)\n",
    "\n",
    "    client_id = conf['client_id']\n",
    "    client_secret = conf['client_secret']\n",
    "    access_token = conf['access_token']\n",
    "    refresh_token = conf['refresh_token']\n",
    "    # Initialize client\n",
    "    client = fitbit.Fitbit(\n",
    "        client_id=client_id,\n",
    "        client_secret=client_secret,\n",
    "        access_token=access_token,\n",
    "        refresh_token=refresh_token,\n",
    "    )\n",
    "    # Get heart rate data\n",
    "    act_data = client.intraday_time_series(\n",
    "        resource='activities/heart',\n",
    "        base_date=date,\n",
    "        detail_level=freq\n",
    "    )\n",
    "    heartrate = act_data['activities-heart-intraday']['dataset']\n",
    "    heartrate_df = pd.DataFrame.from_dict(heartrate)\n",
    "    heartrate_df.insert(0, 'timestamp', pd.to_datetime(date + ' ' + heartrate_df['time']))\n",
    "    heartrate_df.drop('time', axis=1, inplace=True)\n",
    "    heartrate_df.rename(columns={'value': 'heartrate'}, inplace=True)\n",
    "    # Export to csv\n",
    "    heartrate_df.to_csv(f'Fitbit_HR_{DATE}.csv', index=False, encoding='utf-8')\n",
    "    return heartrate_df\n",
    "\n",
    "\n",
    "if __name__ == '__main__':\n",
    "    res = hr2csv(TOKEN_FILE_PATH, DATE, FREQ)\n",
    "    print(res)"
   ]
  }
 ],
 "metadata": {
  "kernelspec": {
   "display_name": "Python 3 (ipykernel)",
   "language": "python",
   "name": "python3"
  },
  "language_info": {
   "codemirror_mode": {
    "name": "ipython",
    "version": 3
   },
   "file_extension": ".py",
   "mimetype": "text/x-python",
   "name": "python",
   "nbconvert_exporter": "python",
   "pygments_lexer": "ipython3",
   "version": "3.10.10"
  }
 },
 "nbformat": 4,
 "nbformat_minor": 5
}
