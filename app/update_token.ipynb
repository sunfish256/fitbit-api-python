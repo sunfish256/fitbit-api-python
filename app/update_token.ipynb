{
 "cells": [
  {
   "cell_type": "markdown",
   "id": "e058168f-15c3-4981-8279-83f057dfa9d6",
   "metadata": {},
   "source": [
    "[![Open in Colab](https://colab.research.google.com/assets/colab-badge.svg)](https://colab.research.google.com/github/sunfish256/fitbit-api-python/blob/main/app/update_token.ipynb)"
   ]
  },
  {
   "cell_type": "code",
   "execution_count": null,
   "id": "f0ff302a-10aa-4580-8c7e-c1f2347576d3",
   "metadata": {
    "tags": []
   },
   "outputs": [],
   "source": [
    "'''Module providing the function to read and write json files.'''\n",
    "import json\n",
    "from requests import Session"
   ]
  },
  {
   "cell_type": "code",
   "execution_count": null,
   "id": "b5f66174-424d-47e2-bb61-8389279d5de0",
   "metadata": {
    "tags": []
   },
   "outputs": [],
   "source": [
    "# Settings\n",
    "TOKEN_FILE_PATH = './fb_conf.json'"
   ]
  },
  {
   "cell_type": "code",
   "execution_count": null,
   "id": "82948321-89f6-47b3-aa41-2f9fdedaced0",
   "metadata": {
    "tags": []
   },
   "outputs": [],
   "source": [
    "def bearer_header():\n",
    "    '''\n",
    "    Header for Bearer Authentication.\n",
    "\n",
    "    Returns:\n",
    "        dict: {'Authorization':'Bearer ' + your-access-token}\n",
    "    '''\n",
    "    return {'Authorization': 'Bearer ' + conf['access_token']}\n",
    "\n",
    "\n",
    "def refresh():\n",
    "    '''\n",
    "    Reacquire access_token and update conf.json.\n",
    "    refresh_token is important because it is required for reacquisition.\n",
    "    Called when access_token has expired.\n",
    "    '''\n",
    "    url = 'https://api.fitbit.com/oauth2/token'\n",
    "    params = {\n",
    "        'grant_type': 'refresh_token',\n",
    "        'refresh_token': conf['refresh_token'],\n",
    "        'client_id': conf['client_id'],\n",
    "    }\n",
    "    # Post. The body is application/x-www-form-urlencoded.\n",
    "    res = session.post(url, data=params)\n",
    "    # Parse\n",
    "    res_data = res.json()\n",
    "    # With error, output error messages\n",
    "    if res_data.get('errors') is not None:\n",
    "        emsg = res_data['errors'][0]\n",
    "        print(f'{emsg}\\n')\n",
    "    # Without error, update the token file\n",
    "    else:\n",
    "        conf['access_token'] = res_data['access_token']\n",
    "        conf['refresh_token'] = res_data['refresh_token']\n",
    "        with open(TOKEN_FILE_PATH, 'w', encoding='utf-8') as f:\n",
    "            json.dump(conf, f, indent=2)\n",
    "\n",
    "\n",
    "def is_expired(res_object: dict):\n",
    "    '''\n",
    "    From the Response, check if the accesss-token has expired.\n",
    "    True if it has expired, False if not. 8 hours is the lifetime for Fitbit API.\n",
    "\n",
    "    Args:\n",
    "        res_object (_type_): response.json()\n",
    "\n",
    "    Returns:\n",
    "        str or None: returns string if there is an error, otherwise returns a NoneType object\n",
    "    '''\n",
    "    errors = res_object.get('errors')\n",
    "    if errors:\n",
    "        for err in errors:\n",
    "            etype = err.get('errorType')\n",
    "            if etype == 'expired_token':\n",
    "                print('Token has expired. Attempt to update token.\\n')\n",
    "            if etype == 'invalid_token':\n",
    "                print('Token is invalid. Attempt to update token. If the problem persists,')\n",
    "                print('check the token at https://dev.fitbit.com/apps.\\n')\n",
    "            else:\n",
    "                print(etype)\n",
    "    else:\n",
    "        print('Current token is valid.\\n')\n",
    "    return errors\n",
    "\n",
    "\n",
    "def request():\n",
    "    '''\n",
    "    Request heart rate data for the test.\n",
    "    The access token expires in 8h, so when it expires,\n",
    "    it is reacquired and the request is reexecuted.\n",
    "\n",
    "    Returns:\n",
    "        dict: response\n",
    "    '''\n",
    "    # Endpoint\n",
    "    # url = 'https://api.fitbit.com/1/user/-/hrv/date/today/all.json'\n",
    "    url = 'https://api.fitbit.com/1/user/-/activities/heart/date/today/1d.json'\n",
    "    # Request\n",
    "    res = session.get(url, headers=bearer_header())\n",
    "    if is_expired(res.json()):\n",
    "        # Update the token if it has expired\n",
    "        refresh()\n",
    "        # Update headers and re-run the request\n",
    "        res = session.get(url, headers=bearer_header())\n",
    "    return res.json()\n",
    "\n",
    "\n",
    "if __name__ == '__main__':\n",
    "    # Initialize session\n",
    "    session = Session()\n",
    "    # Read the authentication file\n",
    "    with open(TOKEN_FILE_PATH, 'r', encoding='utf-8') as f:\n",
    "        conf = json.load(f)\n",
    "    # Request heart rate for the test\n",
    "    res_hr = request()\n",
    "    # Check if the response is correct\n",
    "    if list(res_hr.keys()) == ['activities-heart', 'activities-heart-intraday']:\n",
    "        print('The request succeeded.')\n",
    "    else:\n",
    "        print('The request failed.')"
   ]
  }
 ],
 "metadata": {
  "kernelspec": {
   "display_name": "Python 3 (ipykernel)",
   "language": "python",
   "name": "python3"
  },
  "language_info": {
   "codemirror_mode": {
    "name": "ipython",
    "version": 3
   },
   "file_extension": ".py",
   "mimetype": "text/x-python",
   "name": "python",
   "nbconvert_exporter": "python",
   "pygments_lexer": "ipython3",
   "version": "3.10.10"
  }
 },
 "nbformat": 4,
 "nbformat_minor": 5
}
